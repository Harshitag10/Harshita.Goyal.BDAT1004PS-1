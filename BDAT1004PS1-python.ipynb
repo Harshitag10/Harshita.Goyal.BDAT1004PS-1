{
 "cells": [
  {
   "cell_type": "code",
   "execution_count": 20,
   "id": "b70d03db",
   "metadata": {},
   "outputs": [],
   "source": [
    "#PYTHON \n",
    "#QUESTION 6\n",
    "\n",
    "\n",
    "def pig(word):\n",
    "    if word[0] in ('a','e','i','o','u','A','E','I','O','U'):\n",
    "        word=word+\"way\"\n",
    "        \n",
    "    else:\n",
    "        word=word[1:]+word[0]+\"ay\"\n",
    "        \n",
    "    return word.lower()"
   ]
  },
  {
   "cell_type": "code",
   "execution_count": 21,
   "id": "200dd94f",
   "metadata": {},
   "outputs": [
    {
     "data": {
      "text/plain": [
       "'appyhay'"
      ]
     },
     "execution_count": 21,
     "metadata": {},
     "output_type": "execute_result"
    }
   ],
   "source": [
    "pig(\"happy\")"
   ]
  },
  {
   "cell_type": "code",
   "execution_count": 22,
   "id": "9fea4d16",
   "metadata": {},
   "outputs": [
    {
     "data": {
      "text/plain": [
       "'enterway'"
      ]
     },
     "execution_count": 22,
     "metadata": {},
     "output_type": "execute_result"
    }
   ],
   "source": [
    "pig(\"Enter\")"
   ]
  },
  {
   "cell_type": "code",
   "execution_count": 286,
   "id": "be200678",
   "metadata": {},
   "outputs": [],
   "source": [
    "#QUESTION 7\n",
    "\n",
    "\n",
    "def bldcount(filename):\n",
    "    infile=open(filename)\n",
    "\n",
    "    content=infile.readlines()\n",
    "    for words in content:\n",
    "        list_of_bloodtype=words.split()\n",
    "        \n",
    "    \n",
    "    \n",
    "        count={}\n",
    "        for i in list_of_bloodtype:\n",
    "            if not i in count:        \n",
    "                count[i] = 1\n",
    "            else:\n",
    "                count[i] +=1\n",
    "                \n",
    "        \n",
    "        \n",
    "        for key, value in count.items():\n",
    "            print(\"There are \",value ,\"patients of blood type\",key)\n",
    "        \n",
    "        \n",
    "     \n",
    "            \n",
    "           \n",
    "        \n",
    "            \n",
    "   \n",
    "\n"
   ]
  },
  {
   "cell_type": "code",
   "execution_count": 287,
   "id": "39ea7646",
   "metadata": {},
   "outputs": [
    {
     "name": "stdout",
     "output_type": "stream",
     "text": [
      "There are  13 patients of blood type AB\n",
      "There are  1 patients of blood type B\n",
      "There are  15 patients of blood type O\n",
      "There are  15 patients of blood type A\n"
     ]
    }
   ],
   "source": [
    "  bldcount('C:\\\\Users\\\\harsh\\\\Downloads\\\\BDAT1004\\\\bloodtype1.txt')"
   ]
  },
  {
   "cell_type": "code",
   "execution_count": 232,
   "id": "61b5e5fb",
   "metadata": {},
   "outputs": [],
   "source": [
    "#QUESTION 8\n",
    "\n",
    "\n",
    "def curconv(cur,amnt):\n",
    "    infile=open('C:\\\\Users\\\\harsh\\\\Downloads\\\\BDAT1004\\\\currencies.txt')\n",
    "\n",
    "    content=infile.readlines()\n",
    "\n",
    "    \n",
    "\n",
    "    for line in content:\n",
    "        if cur in line:\n",
    "            \n",
    "            conv_rate=float(line.split()[1])\n",
    "        \n",
    "            print(conv_rate*amnt)\n",
    "        \n",
    "\n",
    "\n",
    "    "
   ]
  },
  {
   "cell_type": "code",
   "execution_count": 269,
   "id": "bb0b2248",
   "metadata": {},
   "outputs": [
    {
     "name": "stdout",
     "output_type": "stream",
     "text": [
      "122.96544\n",
      "1.241401\n"
     ]
    }
   ],
   "source": [
    "curconv('EUR',100)\n",
    "curconv('JPY', 100)"
   ]
  },
  {
   "cell_type": "code",
   "execution_count": 26,
   "id": "468c81ec",
   "metadata": {},
   "outputs": [],
   "source": [
    "#QUESTION 9\n",
    "\n",
    "#Trying to add incompatible variables, as in adding 6 + ‘a’\n",
    "#answer- type error \n",
    "\n",
    "#Referring to the 12th item of a list that has only 10 items\n",
    "#answer-index error\n",
    "\n",
    "#Using a value that is out of range for a function’s input, such as calling math.sqrt(-1.0)\n",
    "#answer-value error\n",
    "\n",
    "#Using an undeclared variable, such as print(x) when x has not been defined\n",
    "#answer-name error\n",
    "\n",
    "#Trying to open a file that does not exist, such as mistyping the file name or looking in the wrong directory\n",
    "#answer-filenotfound error"
   ]
  },
  {
   "cell_type": "code",
   "execution_count": 171,
   "id": "08e7f21e",
   "metadata": {},
   "outputs": [],
   "source": [
    "#QUESTION 10\n",
    "\n",
    "\n",
    "\n",
    "\n",
    "def frequencies(text):\n",
    "    freq=[];\n",
    "    letters='abcdefghijklmnopqrstuvwxyz';\n",
    "    letters=list(letters);\n",
    "    for i in letters:\n",
    "        \n",
    "        for j in text:\n",
    "            \n",
    "            word_count=text.count(i)\n",
    "            \n",
    "            freq.append(word_count)\n",
    "            break;\n",
    "    print(freq)\n",
    "    \n",
    "    \n"
   ]
  },
  {
   "cell_type": "code",
   "execution_count": 172,
   "id": "87d26a02",
   "metadata": {},
   "outputs": [
    {
     "name": "stdout",
     "output_type": "stream",
     "text": [
      "[1, 0, 0, 0, 1, 0, 0, 0, 0, 0, 0, 1, 0, 0, 0, 2, 0, 0, 0, 0, 0, 0, 0, 0, 0, 0]\n"
     ]
    }
   ],
   "source": [
    "frequencies('apple')"
   ]
  },
  {
   "cell_type": "code",
   "execution_count": 173,
   "id": "2ff6f507",
   "metadata": {},
   "outputs": [
    {
     "name": "stdout",
     "output_type": "stream",
     "text": [
      "[1, 1, 1, 3, 5, 1, 1, 2, 1, 0, 1, 0, 1, 2, 4, 0, 1, 2, 0, 2, 1, 0, 1, 1, 0, 0]\n"
     ]
    }
   ],
   "source": [
    "frequencies('The quick red fox got bored and went home.')"
   ]
  }
 ],
 "metadata": {
  "kernelspec": {
   "display_name": "Python 3",
   "language": "python",
   "name": "python3"
  },
  "language_info": {
   "codemirror_mode": {
    "name": "ipython",
    "version": 3
   },
   "file_extension": ".py",
   "mimetype": "text/x-python",
   "name": "python",
   "nbconvert_exporter": "python",
   "pygments_lexer": "ipython3",
   "version": "3.8.8"
  }
 },
 "nbformat": 4,
 "nbformat_minor": 5
}
