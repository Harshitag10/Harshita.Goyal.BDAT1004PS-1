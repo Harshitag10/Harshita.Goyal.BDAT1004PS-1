{
 "cells": [
  {
   "cell_type": "code",
   "execution_count": 1,
   "id": "a9bf3c9c",
   "metadata": {},
   "outputs": [
    {
     "data": {
      "text/html": [
       "\r\n",
       "<div>\r\n",
       "    <div id='dotnet-interactive-this-cell-10808.Microsoft.DotNet.Interactive.Http.HttpPort' style='display: none'>\r\n",
       "        The below script needs to be able to find the current output cell; this is an easy method to get it.\r\n",
       "    </div>\r\n",
       "    <script type='text/javascript'>\r\n",
       "async function probeAddresses(probingAddresses) {\r\n",
       "    function timeout(ms, promise) {\r\n",
       "        return new Promise(function (resolve, reject) {\r\n",
       "            setTimeout(function () {\r\n",
       "                reject(new Error('timeout'))\r\n",
       "            }, ms)\r\n",
       "            promise.then(resolve, reject)\r\n",
       "        })\r\n",
       "    }\r\n",
       "\r\n",
       "    if (Array.isArray(probingAddresses)) {\r\n",
       "        for (let i = 0; i < probingAddresses.length; i++) {\r\n",
       "\r\n",
       "            let rootUrl = probingAddresses[i];\r\n",
       "\r\n",
       "            if (!rootUrl.endsWith('/')) {\r\n",
       "                rootUrl = `${rootUrl}/`;\r\n",
       "            }\r\n",
       "\r\n",
       "            try {\r\n",
       "                let response = await timeout(1000, fetch(`${rootUrl}discovery`, {\r\n",
       "                    method: 'POST',\r\n",
       "                    cache: 'no-cache',\r\n",
       "                    mode: 'cors',\r\n",
       "                    timeout: 1000,\r\n",
       "                    headers: {\r\n",
       "                        'Content-Type': 'text/plain'\r\n",
       "                    },\r\n",
       "                    body: probingAddresses[i]\r\n",
       "                }));\r\n",
       "\r\n",
       "                if (response.status == 200) {\r\n",
       "                    return rootUrl;\r\n",
       "                }\r\n",
       "            }\r\n",
       "            catch (e) { }\r\n",
       "        }\r\n",
       "    }\r\n",
       "}\r\n",
       "\r\n",
       "function loadDotnetInteractiveApi() {\r\n",
       "    probeAddresses([\"http://192.168.56.1:1000/\", \"http://10.10.107.41:1000/\", \"http://127.0.0.1:1000/\"])\r\n",
       "        .then((root) => {\r\n",
       "        // use probing to find host url and api resources\r\n",
       "        // load interactive helpers and language services\r\n",
       "        let dotnetInteractiveRequire = require.config({\r\n",
       "        context: '10808.Microsoft.DotNet.Interactive.Http.HttpPort',\r\n",
       "                paths:\r\n",
       "            {\r\n",
       "                'dotnet-interactive': `${root}resources`\r\n",
       "                }\r\n",
       "        }) || require;\r\n",
       "\r\n",
       "            window.dotnetInteractiveRequire = dotnetInteractiveRequire;\r\n",
       "\r\n",
       "            window.configureRequireFromExtension = function(extensionName, extensionCacheBuster) {\r\n",
       "                let paths = {};\r\n",
       "                paths[extensionName] = `${root}extensions/${extensionName}/resources/`;\r\n",
       "                \r\n",
       "                let internalRequire = require.config({\r\n",
       "                    context: extensionCacheBuster,\r\n",
       "                    paths: paths,\r\n",
       "                    urlArgs: `cacheBuster=${extensionCacheBuster}`\r\n",
       "                    }) || require;\r\n",
       "\r\n",
       "                return internalRequire\r\n",
       "            };\r\n",
       "        \r\n",
       "            dotnetInteractiveRequire([\r\n",
       "                    'dotnet-interactive/dotnet-interactive'\r\n",
       "                ],\r\n",
       "                function (dotnet) {\r\n",
       "                    dotnet.init(window);\r\n",
       "                },\r\n",
       "                function (error) {\r\n",
       "                    console.log(error);\r\n",
       "                }\r\n",
       "            );\r\n",
       "        })\r\n",
       "        .catch(error => {console.log(error);});\r\n",
       "    }\r\n",
       "\r\n",
       "// ensure `require` is available globally\r\n",
       "if ((typeof(require) !==  typeof(Function)) || (typeof(require.config) !== typeof(Function))) {\r\n",
       "    let require_script = document.createElement('script');\r\n",
       "    require_script.setAttribute('src', 'https://cdnjs.cloudflare.com/ajax/libs/require.js/2.3.6/require.min.js');\r\n",
       "    require_script.setAttribute('type', 'text/javascript');\r\n",
       "    \r\n",
       "    \r\n",
       "    require_script.onload = function() {\r\n",
       "        loadDotnetInteractiveApi();\r\n",
       "    };\r\n",
       "\r\n",
       "    document.getElementsByTagName('head')[0].appendChild(require_script);\r\n",
       "}\r\n",
       "else {\r\n",
       "    loadDotnetInteractiveApi();\r\n",
       "}\r\n",
       "\r\n",
       "    </script>\r\n",
       "</div>"
      ]
     },
     "metadata": {},
     "output_type": "display_data"
    }
   ],
   "source": [
    "//c# \n",
    "//QUESTION 1\n",
    "\n",
    "/*\n",
    "5-integer\n",
    "5.0-floating\n",
    "5 > 1-boolean\n",
    "'5'-string\n",
    "5 * 2-integer\n",
    "'5' * 2-string\n",
    "'5' + '2'-string\n",
    "5 / 2-floating\n",
    "5 % 2-integer\n",
    "{5, 2, 1}-integer\n",
    "5 == 3-boolean\n",
    "Pi (the number)-floating\n",
    "*/"
   ]
  },
  {
   "cell_type": "code",
   "execution_count": 18,
   "id": "fc27702b",
   "metadata": {},
   "outputs": [
    {
     "name": "stdout",
     "output_type": "stream",
     "text": [
      "There are 34 letters in Supercalifragilisticexpialidocious\r\n"
     ]
    }
   ],
   "source": [
    "//QUESTION 2\n",
    "//a\n",
    "\n",
    "string word=\"Supercalifragilisticexpialidocious\";\n",
    "int l=word.Length;\n",
    "\n",
    "Console.WriteLine($\"There are {l} letters in {word}\");"
   ]
  },
  {
   "cell_type": "code",
   "execution_count": 13,
   "id": "07ba9530",
   "metadata": {},
   "outputs": [
    {
     "name": "stdout",
     "output_type": "stream",
     "text": [
      "True\r\n"
     ]
    }
   ],
   "source": [
    "//b\n",
    "string substg =\"ice\";\n",
    "\n",
    "Console.WriteLine(word.Contains(substg));"
   ]
  },
  {
   "cell_type": "code",
   "execution_count": 17,
   "id": "d82d1342",
   "metadata": {},
   "outputs": [
    {
     "name": "stdout",
     "output_type": "stream",
     "text": [
      "34\n",
      "27\n",
      "34\n"
     ]
    }
   ],
   "source": [
    "//c\n",
    "\n",
    "string word1=\"Supercalifragilisticexpialidocious\";\n",
    "string word2=\"Honorificabilitudinitatibus\";\n",
    "string word3=\"Bababadalgharaghtakamminarronnkonn\";\n",
    "\n",
    "Console.WriteLine(word1.Length);\n",
    "Console.WriteLine(word2.Length);\n",
    "Console.WriteLine(word3.Length);"
   ]
  },
  {
   "cell_type": "code",
   "execution_count": 28,
   "id": "02165ec8",
   "metadata": {},
   "outputs": [
    {
     "name": "stdout",
     "output_type": "stream",
     "text": [
      " First name will be Bartok\n",
      " Last name will be Buxtehude\n"
     ]
    }
   ],
   "source": [
    "//d\n",
    "\n",
    "List<string> wordlist= new List<string>();\n",
    "wordlist.Add(\"Berlioz\");\n",
    "wordlist.Add(\"Borodin\");\n",
    "wordlist.Add(\"Brian\");\n",
    "wordlist.Add(\"Bartok\");\n",
    "wordlist.Add(\"'Bellini\");\n",
    "wordlist.Add(\"Buxtehude\");\n",
    "wordlist.Add(\"'Bernstein\");\n",
    "\n",
    "wordlist.Sort();\n",
    "\n",
    "Console.WriteLine($\" First name will be {wordlist[0]}\");\n",
    "Console.WriteLine($\" Last name will be {wordlist[6]}\");"
   ]
  },
  {
   "cell_type": "code",
   "execution_count": 34,
   "id": "e5212bbd",
   "metadata": {},
   "outputs": [
    {
     "data": {
      "text/html": [
       "<div class=\"dni-plaintext\">1.7320508075688772</div>"
      ]
     },
     "execution_count": 34,
     "metadata": {},
     "output_type": "execute_result"
    }
   ],
   "source": [
    "//QUESTION 3\n",
    "\n",
    "double triangeArea(double a,double b,double c)\n",
    "{\n",
    "double s=(a+b+c)/2;\n",
    "double area= Math.Sqrt(s*(s-a)*(s-b)*(s-c));\n",
    "return area;\n",
    "}\n",
    "\n",
    "\n",
    "\n",
    "\n",
    "triangeArea(2,2,2)"
   ]
  },
  {
   "cell_type": "code",
   "execution_count": 121,
   "id": "2bdf2c79",
   "metadata": {},
   "outputs": [
    {
     "name": "stdout",
     "output_type": "stream",
     "text": [
      "The even elements are:\n",
      "42\n",
      "56\n",
      "32\n",
      "The odd elements are:\n",
      "25\n",
      "47\n"
     ]
    }
   ],
   "source": [
    "//QUESTION 4\n",
    "\n",
    "int[] array1={25,47,42,56,32};\n",
    "int[] array_even=new int[10];\n",
    "int[] array_odd=new int[10];\n",
    "int a=0,b=0;\n",
    "\n",
    "for( int i=0 ; i<5;i++)\n",
    "{\n",
    "    if(array1[i]%2==0)\n",
    "        {\n",
    "            array_even[a]=array1[i];\n",
    "                a++;\n",
    "        }\n",
    "    else\n",
    "        {\n",
    "            array_odd[b]=array1[i];\n",
    "                b++;\n",
    "        }\n",
    "\n",
    "\n",
    "}\n",
    "\n",
    "\n",
    "Console.WriteLine(\"The even elements are:\");\n",
    "for(int j=0;j<a;j++)\n",
    "{\n",
    "    Console.WriteLine(array_even[j]);\n",
    "}\n",
    "\n",
    "Console.WriteLine(\"The odd elements are:\");\n",
    "for(int k=0;k<b;k++)\n",
    "{\n",
    "    Console.WriteLine(array_odd[k]);\n",
    "}"
   ]
  },
  {
   "cell_type": "code",
   "execution_count": 112,
   "id": "bde90e89",
   "metadata": {},
   "outputs": [
    {
     "name": "stdout",
     "output_type": "stream",
     "text": [
      "True\n",
      "False\n"
     ]
    }
   ],
   "source": [
    "//QUESTION 5\n",
    "//a\n",
    "public class rectangle\n",
    "{\n",
    "    public void inside(double x,double y,double x1,double y1,double x2,double y2)\n",
    "    {\n",
    "        if ((x > x1) && (x < x2) && (y > y1) && (y < y2))\n",
    "            Console.WriteLine(\"True\");\n",
    "        else\n",
    "            Console.WriteLine(\"False\");\n",
    "\n",
    "    }\n",
    "    \n",
    "}\n",
    "\n",
    "rectangle rect=new rectangle();\n",
    "rect.inside(1,1,0,0,2,3);\n",
    "rect.inside(-1,-1,0,0,2,3);"
   ]
  },
  {
   "cell_type": "code",
   "execution_count": 115,
   "id": "65362379",
   "metadata": {},
   "outputs": [
    {
     "name": "stdout",
     "output_type": "stream",
     "text": [
      "False\n",
      "True\n"
     ]
    }
   ],
   "source": [
    "//b\n",
    "\n",
    "rect.inside(1,1,0.3,0.5,1.1,0.7);\n",
    "rect.inside(1,1,0.5,0.2,1.1,2);\n",
    "\n",
    "// because one is false and other is true the final answer will be FALSE as the point(1,1) doesnt lie in both the rectangles\n",
    "// ( i couldnt understand how to create an expression in this part)"
   ]
  }
 ],
 "metadata": {
  "kernelspec": {
   "display_name": ".NET (C#)",
   "language": "C#",
   "name": ".net-csharp"
  },
  "language_info": {
   "file_extension": ".cs",
   "mimetype": "text/x-csharp",
   "name": "C#",
   "pygments_lexer": "csharp",
   "version": "8.0"
  }
 },
 "nbformat": 4,
 "nbformat_minor": 5
}
